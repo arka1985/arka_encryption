{
 "cells": [
  {
   "cell_type": "markdown",
   "metadata": {},
   "source": [
    "# Encryption"
   ]
  },
  {
   "cell_type": "code",
   "execution_count": 2,
   "metadata": {},
   "outputs": [
    {
     "name": "stderr",
     "output_type": "stream",
     "text": [
      "In /anaconda3/lib/python3.6/site-packages/matplotlib/mpl-data/stylelib/_classic_test.mplstyle: \n",
      "The savefig.frameon rcparam was deprecated in Matplotlib 3.1 and will be removed in 3.3.\n",
      "In /anaconda3/lib/python3.6/site-packages/matplotlib/mpl-data/stylelib/_classic_test.mplstyle: \n",
      "The verbose.level rcparam was deprecated in Matplotlib 3.1 and will be removed in 3.3.\n",
      "In /anaconda3/lib/python3.6/site-packages/matplotlib/mpl-data/stylelib/_classic_test.mplstyle: \n",
      "The verbose.fileo rcparam was deprecated in Matplotlib 3.1 and will be removed in 3.3.\n"
     ]
    }
   ],
   "source": [
    "import pandas as pd\n",
    "import matplotlib.pyplot as plt\n",
    "from io import StringIO\n",
    "import cryptography\n",
    "import ipywidgets as widgets\n",
    "from ipywidgets import Button, HTML, HBox, VBox, Checkbox, FileUpload, Label, Output, IntSlider, Layout, Image, link, GridspecLayout"
   ]
  },
  {
   "cell_type": "code",
   "execution_count": 3,
   "metadata": {},
   "outputs": [
    {
     "data": {
      "application/vnd.jupyter.widget-view+json": {
       "model_id": "8d5a089eb2d94d3a9029c38ef9f92d63",
       "version_major": 2,
       "version_minor": 0
      },
      "text/plain": [
       "HBox(children=(Label(value='Powered by:'), Image(value=b'\\x89PNG\\r\\n\\x1a\\n\\x00\\x00\\x00\\rIHDR\\x00\\x00\\x00N\\x00\\…"
      ]
     },
     "metadata": {},
     "output_type": "display_data"
    }
   ],
   "source": [
    "tools = [\"voila\", \"ipyleaflet\", \"ipywidgets\", \"bqplot\"]\n",
    "logos = []\n",
    "for tool in tools:\n",
    "    with open(f'/Users/arka.doctor/{tool}.png', 'rb') as f:\n",
    "        image = f.read()\n",
    "    img = Image(value=image, format='png',layout=Layout(padding='10px'))\n",
    "    logos.append(img)\n",
    "HBox([Label(value='Powered by:')] + logos, layout=Layout(flex_flow='row', align_items='center'))"
   ]
  },
  {
   "cell_type": "code",
   "execution_count": 4,
   "metadata": {},
   "outputs": [
    {
     "name": "stdout",
     "output_type": "stream",
     "text": [
      "Type Password Here:········\n"
     ]
    }
   ],
   "source": [
    "import pandas as pd\n",
    "import sys\n",
    "import base64\n",
    "from Crypto.Cipher import AES\n",
    "from Crypto import Random\n",
    "from Crypto.Protocol.KDF import PBKDF2\n",
    "from Crypto.Util.Padding import pad, unpad\n",
    "import os\n",
    "import time\n",
    "import getpass\n",
    "\n",
    "BLOCK_SIZE = 16\n",
    "\n",
    "def get_private_key_salt(password, salt=None):\n",
    "    if salt == None:\n",
    "        saltBin = os.urandom(16)\n",
    "        salt = saltBin.hex()\n",
    "    else:                             \n",
    "        saltBin = bytes.fromhex(salt)    \n",
    "\n",
    "    kdf = PBKDF2(password, saltBin, 64, 100000)\n",
    "    key = kdf[:32]\n",
    "\n",
    "    return [key,salt]\n",
    "\n",
    "\n",
    "def encrypt(raw, private_key):\n",
    "    iv = os.urandom(AES.block_size)\n",
    "    cipher = AES.new(private_key, AES.MODE_CBC, iv)\n",
    "    return base64.b64encode(iv + cipher.encrypt(pad(raw.encode('utf-8'),BLOCK_SIZE)))\n",
    "\n",
    "\n",
    "def decrypt(enc, private_key):\n",
    "    enc = base64.b64decode(enc)\n",
    "    iv = enc[:16]\n",
    "    cipher = AES.new(private_key, AES.MODE_CBC, iv)\n",
    "    #line56\n",
    "    return unpad(cipher.decrypt(enc[16:]),BLOCK_SIZE)\n",
    "\n",
    "\n",
    "def encrypt_cols(encryption_dict,password):\n",
    "    encrypted_dict = {}\n",
    "    encrypted_dict['salt'] = []\n",
    "    for dict_key in encryption_dict.keys():\n",
    "        encrypted_dict[dict_key] = []\n",
    "        for index in range(0,len(encryption_dict[dict_key])):\n",
    "            try:\n",
    "                key_salt_pair = get_private_key_salt(password,encrypted_dict['salt'][index])\n",
    "            except IndexError:\n",
    "                key_salt_pair = get_private_key_salt(password)\n",
    "                encrypted_dict['salt'].append(key_salt_pair[1])\n",
    "            cipher_text = encrypt(str(encryption_dict[dict_key][index]), key_salt_pair[0])\n",
    "            encrypted_dict[dict_key].append(cipher_text.decode(\"utf-8\"))\n",
    "\n",
    "    return encrypted_dict\n",
    "\n",
    "\n",
    "def decrypt_cols(encrypted_dict,password):\n",
    "    decrypted_dict = {}\n",
    "    decrypted_dict['salt'] = encrypted_dict['salt']\n",
    "    for dict_key in encrypted_dict.keys():\n",
    "        decrypted_dict[dict_key] = []\n",
    "        if dict_key != 'salt':\n",
    "            for index in range(0,len(encrypted_dict[dict_key])):\n",
    "                key_salt_pair = get_private_key_salt(password,encrypted_dict['salt'][index])\n",
    "                cipher_text = encrypted_dict[dict_key][index].encode('utf-8')\n",
    "                #line88\n",
    "                plain_text = decrypt(cipher_text, key_salt_pair[0]).decode('utf-8')\n",
    "                decrypted_dict[dict_key].append(plain_text)\n",
    "    return decrypted_dict\n",
    "\n",
    "\n",
    "def prep_encryption_cols(encrypt_list):\n",
    "    encryption_dict = {}\n",
    "    for col_name in encrypt_list:\n",
    "        try:\n",
    "            encryption_dict[col_name]=df[col_name]\n",
    "        except KeyError:\n",
    "            print('No column with name \\''+col_name+'\\' Found. De-identification Failed!')\n",
    "            sys.exit()\n",
    "    return encryption_dict\n",
    "\n",
    "def encryption(df, encrypt_list,password):\n",
    "    encryption_dict = prep_encryption_cols(encrypt_list)\n",
    "    encrypted_dict = encrypt_cols(encryption_dict,password)\n",
    "\n",
    "    for key in encrypted_dict.keys():\n",
    "        df[key] = encrypted_dict[key]\n",
    "\n",
    "def decryption(df, decrypt_list, password):\n",
    "    encrypted_dict = {}\n",
    "    for col in decrypt_list:\n",
    "        encrypted_dict[col] = df[col]\n",
    "    encrypted_dict['salt'] = df['salt']\n",
    "    decrypted_dict = decrypt_cols(encrypted_dict,password)\n",
    "    del df['salt']\n",
    "    for key in decrypted_dict.keys():\n",
    "        if key != 'salt':\n",
    "            df[key] = decrypted_dict[key]\n",
    "\n",
    "password = getpass.getpass(prompt='Type Password Here:')"
   ]
  },
  {
   "cell_type": "code",
   "execution_count": 197,
   "metadata": {},
   "outputs": [],
   "source": [
    "import os\n",
    "import ipywidgets as widgets\n",
    "\n",
    "class FileBrowser(object):\n",
    "    def __init__(self):\n",
    "        self.path = os.getcwd()\n",
    "        self._update_files()\n",
    "\n",
    "    def _update_files(self):\n",
    "        self.files = list()\n",
    "        self.dirs = list()\n",
    "        if(os.path.isdir(self.path)):\n",
    "            for f in os.listdir(self.path):\n",
    "                ff = os.path.join(self.path, f)\n",
    "                if os.path.isdir(ff):\n",
    "                    self.dirs.append(f)\n",
    "                else:\n",
    "                    self.files.append(f)\n",
    "\n",
    "    def widget(self):\n",
    "        box = widgets.VBox()\n",
    "        self._update(box)\n",
    "        return box\n",
    "\n",
    "    def _update(self, box):\n",
    "\n",
    "        def on_click(b):\n",
    "            if b.description == '..':\n",
    "                self.path = os.path.split(self.path)[0]\n",
    "            else:\n",
    "                self.path = os.path.join(self.path, b.description)\n",
    "            self._update_files()\n",
    "            self._update(box)\n",
    "\n",
    "        buttons = []\n",
    "        if self.files:\n",
    "            button = widgets.Button(description='..', background_color='#d0d0ff')\n",
    "            button.on_click(on_click)\n",
    "            buttons.append(button)\n",
    "        for f in self.dirs:\n",
    "            button = widgets.Button(description=f, background_color='#d0d0ff')\n",
    "            button.on_click(on_click)\n",
    "            buttons.append(button)\n",
    "        for f in self.files:\n",
    "            button = widgets.Button(description=f)\n",
    "            button.on_click(on_click)\n",
    "            buttons.append(button)\n",
    "        box.children = tuple([widgets.HTML(\"<h2>%s</h2>\" % (self.path,))] + buttons)"
   ]
  },
  {
   "cell_type": "code",
   "execution_count": 198,
   "metadata": {},
   "outputs": [
    {
     "data": {
      "application/vnd.jupyter.widget-view+json": {
       "model_id": "4827d95069674da4a2ede500bc7f969d",
       "version_major": 2,
       "version_minor": 0
      },
      "text/plain": [
       "VBox(children=(HTML(value='<h2>/Users/arka.doctor</h2>'), Button(description='..', style=ButtonStyle()), Butto…"
      ]
     },
     "metadata": {},
     "output_type": "display_data"
    }
   ],
   "source": [
    "f = FileBrowser()\n",
    "f.widget()"
   ]
  },
  {
   "cell_type": "code",
   "execution_count": 199,
   "metadata": {},
   "outputs": [
    {
     "data": {
      "text/plain": [
       "'/Users/arka.doctor/OneDrive/Textile_Study/sample1.csv'"
      ]
     },
     "execution_count": 199,
     "metadata": {},
     "output_type": "execute_result"
    }
   ],
   "source": [
    "f.path"
   ]
  },
  {
   "cell_type": "code",
   "execution_count": 200,
   "metadata": {},
   "outputs": [],
   "source": [
    "df = pd.read_csv(f.path)"
   ]
  },
  {
   "cell_type": "code",
   "execution_count": null,
   "metadata": {},
   "outputs": [],
   "source": [
    "encrypt_list = ['PSU_CODE', 'SAMPLE_CODE','NAME']\n",
    "encryption(df, encrypt_list, password)"
   ]
  },
  {
   "cell_type": "code",
   "execution_count": 42,
   "metadata": {},
   "outputs": [
    {
     "data": {
      "text/html": [
       "<a download=\"data.csv\" href=\"data:text/csv;base64,LDAKMCwiYidTTF9OTyxTVFJBVEEsUFNVX0NPREUsU0FNUExFX0NPREUsTkFNRSxBR0UsU0VYXHJcbjEsMTEsMTFfMDEsMTFfMDFfMDAxLERSIEFSS0FQUkFCSEEgU0FVLDMzLE0nIgo=\" target=\"_blank\">Download CSV file</a>"
      ],
      "text/plain": [
       "<IPython.core.display.HTML object>"
      ]
     },
     "execution_count": 42,
     "metadata": {},
     "output_type": "execute_result"
    }
   ],
   "source": [
    "from IPython.display import HTML\n",
    "\n",
    "def create_download_link( df, title = \"Download CSV file\", filename = \"data.csv\"):  \n",
    "    csv = df.to_csv()\n",
    "    b64 = base64.b64encode(csv.encode())\n",
    "    payload = b64.decode()\n",
    "    html = '<a download=\"{filename}\" href=\"data:text/csv;base64,{payload}\" target=\"_blank\">{title}</a>'\n",
    "    html = html.format(payload=payload,title=title,filename=filename)\n",
    "    return HTML(html)\n",
    "\n",
    "create_download_link(df)"
   ]
  }
 ],
 "metadata": {
  "kernelspec": {
   "display_name": "Python 3",
   "language": "python",
   "name": "python3"
  },
  "language_info": {
   "codemirror_mode": {
    "name": "ipython",
    "version": 3
   },
   "file_extension": ".py",
   "mimetype": "text/x-python",
   "name": "python",
   "nbconvert_exporter": "python",
   "pygments_lexer": "ipython3",
   "version": "3.6.9"
  }
 },
 "nbformat": 4,
 "nbformat_minor": 2
}

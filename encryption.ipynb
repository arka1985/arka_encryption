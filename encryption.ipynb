{
 "cells": [
  {
   "cell_type": "markdown",
   "metadata": {},
   "source": [
    "# Encryption"
   ]
  },
  {
   "cell_type": "code",
   "execution_count": 1,
   "metadata": {},
   "outputs": [
    {
     "name": "stderr",
     "output_type": "stream",
     "text": [
      "In /anaconda3/lib/python3.6/site-packages/matplotlib/mpl-data/stylelib/_classic_test.mplstyle: \n",
      "The savefig.frameon rcparam was deprecated in Matplotlib 3.1 and will be removed in 3.3.\n",
      "In /anaconda3/lib/python3.6/site-packages/matplotlib/mpl-data/stylelib/_classic_test.mplstyle: \n",
      "The verbose.level rcparam was deprecated in Matplotlib 3.1 and will be removed in 3.3.\n",
      "In /anaconda3/lib/python3.6/site-packages/matplotlib/mpl-data/stylelib/_classic_test.mplstyle: \n",
      "The verbose.fileo rcparam was deprecated in Matplotlib 3.1 and will be removed in 3.3.\n"
     ]
    }
   ],
   "source": [
    "import pandas as pd\n",
    "import matplotlib.pyplot as plt\n",
    "from io import StringIO\n",
    "import cryptography\n",
    "import ipywidgets as widgets\n",
    "from ipywidgets import Button, HTML, HBox, VBox, Checkbox, FileUpload, Label, Output, IntSlider, Layout, Image, link, GridspecLayout"
   ]
  },
  {
   "cell_type": "code",
   "execution_count": 2,
   "metadata": {},
   "outputs": [
    {
     "data": {
      "application/vnd.jupyter.widget-view+json": {
       "model_id": "a140b1fa1e9b4fa3b8dfeb3dfe15f8f4",
       "version_major": 2,
       "version_minor": 0
      },
      "text/plain": [
       "HBox(children=(Label(value='Powered by:'), Image(value=b'\\x89PNG\\r\\n\\x1a\\n\\x00\\x00\\x00\\rIHDR\\x00\\x00\\x00N\\x00\\…"
      ]
     },
     "metadata": {},
     "output_type": "display_data"
    }
   ],
   "source": [
    "tools = [\"voila\", \"ipyleaflet\", \"ipywidgets\", \"bqplot\"]\n",
    "logos = []\n",
    "for tool in tools:\n",
    "    with open(f'/Users/arka.doctor/{tool}.png', 'rb') as f:\n",
    "        image = f.read()\n",
    "    img = Image(value=image, format='png',layout=Layout(padding='10px'))\n",
    "    logos.append(img)\n",
    "HBox([Label(value='Powered by:')] + logos, layout=Layout(flex_flow='row', align_items='center'))"
   ]
  },
  {
   "cell_type": "code",
   "execution_count": null,
   "metadata": {},
   "outputs": [],
   "source": [
    "import pandas as pd\n",
    "import sys\n",
    "import base64\n",
    "from Crypto.Cipher import AES\n",
    "from Crypto import Random\n",
    "from Crypto.Protocol.KDF import PBKDF2\n",
    "from Crypto.Util.Padding import pad, unpad\n",
    "import os\n",
    "import time\n",
    "import getpass\n",
    "\n",
    "BLOCK_SIZE = 16\n",
    "\n",
    "def get_private_key_salt(password, salt=None):\n",
    "    if salt == None:\n",
    "        saltBin = os.urandom(16)\n",
    "        salt = saltBin.hex()\n",
    "    else:                             \n",
    "        saltBin = bytes.fromhex(salt)    \n",
    "\n",
    "    kdf = PBKDF2(password, saltBin, 64, 100000)\n",
    "    key = kdf[:32]\n",
    "\n",
    "    return [key,salt]\n",
    "\n",
    "\n",
    "def encrypt(raw, private_key):\n",
    "    iv = os.urandom(AES.block_size)\n",
    "    cipher = AES.new(private_key, AES.MODE_CBC, iv)\n",
    "    return base64.b64encode(iv + cipher.encrypt(pad(raw.encode('utf-8'),BLOCK_SIZE)))\n",
    "\n",
    "\n",
    "def decrypt(enc, private_key):\n",
    "    enc = base64.b64decode(enc)\n",
    "    iv = enc[:16]\n",
    "    cipher = AES.new(private_key, AES.MODE_CBC, iv)\n",
    "    #line56\n",
    "    return unpad(cipher.decrypt(enc[16:]),BLOCK_SIZE)\n",
    "\n",
    "\n",
    "def encrypt_cols(encryption_dict,password):\n",
    "    encrypted_dict = {}\n",
    "    encrypted_dict['salt'] = []\n",
    "    for dict_key in encryption_dict.keys():\n",
    "        encrypted_dict[dict_key] = []\n",
    "        for index in range(0,len(encryption_dict[dict_key])):\n",
    "            try:\n",
    "                key_salt_pair = get_private_key_salt(password,encrypted_dict['salt'][index])\n",
    "            except IndexError:\n",
    "                key_salt_pair = get_private_key_salt(password)\n",
    "                encrypted_dict['salt'].append(key_salt_pair[1])\n",
    "            cipher_text = encrypt(str(encryption_dict[dict_key][index]), key_salt_pair[0])\n",
    "            encrypted_dict[dict_key].append(cipher_text.decode(\"utf-8\"))\n",
    "\n",
    "    return encrypted_dict\n",
    "\n",
    "\n",
    "def decrypt_cols(encrypted_dict,password):\n",
    "    decrypted_dict = {}\n",
    "    decrypted_dict['salt'] = encrypted_dict['salt']\n",
    "    for dict_key in encrypted_dict.keys():\n",
    "        decrypted_dict[dict_key] = []\n",
    "        if dict_key != 'salt':\n",
    "            for index in range(0,len(encrypted_dict[dict_key])):\n",
    "                key_salt_pair = get_private_key_salt(password,encrypted_dict['salt'][index])\n",
    "                cipher_text = encrypted_dict[dict_key][index].encode('utf-8')\n",
    "                #line88\n",
    "                plain_text = decrypt(cipher_text, key_salt_pair[0]).decode('utf-8')\n",
    "                decrypted_dict[dict_key].append(plain_text)\n",
    "    return decrypted_dict\n",
    "\n",
    "\n",
    "def prep_encryption_cols(encrypt_list):\n",
    "    encryption_dict = {}\n",
    "    for col_name in encrypt_list:\n",
    "        try:\n",
    "            encryption_dict[col_name]=df[col_name]\n",
    "        except KeyError:\n",
    "            print('No column with name \\''+col_name+'\\' Found. De-identification Failed!')\n",
    "            sys.exit()\n",
    "    return encryption_dict\n",
    "\n",
    "def encryption(df, encrypt_list,password):\n",
    "    encryption_dict = prep_encryption_cols(encrypt_list)\n",
    "    encrypted_dict = encrypt_cols(encryption_dict,password)\n",
    "\n",
    "    for key in encrypted_dict.keys():\n",
    "        df[key] = encrypted_dict[key]\n",
    "\n",
    "def decryption(df, decrypt_list, password):\n",
    "    encrypted_dict = {}\n",
    "    for col in decrypt_list:\n",
    "        encrypted_dict[col] = df[col]\n",
    "    encrypted_dict['salt'] = df['salt']\n",
    "    decrypted_dict = decrypt_cols(encrypted_dict,password)\n",
    "    del df['salt']\n",
    "    for key in decrypted_dict.keys():\n",
    "        if key != 'salt':\n",
    "            df[key] = decrypted_dict[key]\n",
    "\n",
    "password = getpass.getpass(prompt='Type Password Here:')"
   ]
  },
  {
   "cell_type": "code",
   "execution_count": 4,
   "metadata": {},
   "outputs": [
    {
     "ename": "NameError",
     "evalue": "name 'df' is not defined",
     "output_type": "error",
     "traceback": [
      "\u001b[0;31m---------------------------------------------------------------------------\u001b[0m",
      "\u001b[0;31mNameError\u001b[0m                                 Traceback (most recent call last)",
      "\u001b[0;32m<ipython-input-4-8e7cc0937d2b>\u001b[0m in \u001b[0;36m<module>\u001b[0;34m\u001b[0m\n\u001b[1;32m     24\u001b[0m \u001b[0mlayout\u001b[0m\u001b[0;34m\u001b[0m\u001b[0;34m\u001b[0m\u001b[0m\n\u001b[1;32m     25\u001b[0m \u001b[0mencrypt_list\u001b[0m \u001b[0;34m=\u001b[0m \u001b[0;34m[\u001b[0m\u001b[0;34m'PSU_CODE'\u001b[0m\u001b[0;34m,\u001b[0m \u001b[0;34m'SAMPLE_CODE'\u001b[0m\u001b[0;34m,\u001b[0m\u001b[0;34m'NAME'\u001b[0m\u001b[0;34m]\u001b[0m\u001b[0;34m\u001b[0m\u001b[0;34m\u001b[0m\u001b[0m\n\u001b[0;32m---> 26\u001b[0;31m \u001b[0mencryption\u001b[0m\u001b[0;34m(\u001b[0m\u001b[0mdf\u001b[0m\u001b[0;34m,\u001b[0m \u001b[0mencrypt_list\u001b[0m\u001b[0;34m,\u001b[0m \u001b[0mpassword\u001b[0m\u001b[0;34m)\u001b[0m\u001b[0;34m\u001b[0m\u001b[0;34m\u001b[0m\u001b[0m\n\u001b[0m\u001b[1;32m     27\u001b[0m \u001b[0mdf\u001b[0m\u001b[0;34m.\u001b[0m\u001b[0mto_csv\u001b[0m\u001b[0;34m(\u001b[0m\u001b[0;34m'/Users/arka.doctor/OneDrive/Textile_Study/encrypted_test1.csv'\u001b[0m\u001b[0;34m)\u001b[0m\u001b[0;34m\u001b[0m\u001b[0;34m\u001b[0m\u001b[0m\n",
      "\u001b[0;31mNameError\u001b[0m: name 'df' is not defined"
     ]
    }
   ],
   "source": [
    "layout = GridspecLayout(1, 2, height='100px')\n",
    "\n",
    "def on_upload(change):\n",
    "    value = change['new']\n",
    "\n",
    "    for filename in value:\n",
    "        with open(filename, 'wb') as outfile:\n",
    "            outfile.write(value[filename]['content'])\n",
    "\n",
    "upload_data = FileUpload(description='Upload your data:', layout=dict(width='auto', height='auto'))\n",
    "upload_data.observe(on_upload, 'value')\n",
    "\n",
    "def show(event):\n",
    "    df=pd.DataFrame(upload_data.data)\n",
    "    print(df)\n",
    "    \n",
    "    \n",
    "plot = Button(description='Show', button_style='success', layout=dict(width='auto', height='auto'))\n",
    "plot.on_click(show)\n",
    "\n",
    "layout[0, 0] = upload_data\n",
    "layout[0, 1] = plot\n",
    "\n",
    "layout"
   ]
  },
  {
   "cell_type": "code",
   "execution_count": null,
   "metadata": {},
   "outputs": [],
   "source": [
    "encrypt_list = ['PSU_CODE', 'SAMPLE_CODE','NAME']\n",
    "encryption(df, encrypt_list, password)\n",
    "df.to_csv('/Users/arka.doctor/OneDrive/Textile_Study/encrypted_test1.csv')"
   ]
  }
 ],
 "metadata": {
  "kernelspec": {
   "display_name": "Python 3",
   "language": "python",
   "name": "python3"
  },
  "language_info": {
   "codemirror_mode": {
    "name": "ipython",
    "version": 3
   },
   "file_extension": ".py",
   "mimetype": "text/x-python",
   "name": "python",
   "nbconvert_exporter": "python",
   "pygments_lexer": "ipython3",
   "version": "3.6.9"
  }
 },
 "nbformat": 4,
 "nbformat_minor": 2
}
